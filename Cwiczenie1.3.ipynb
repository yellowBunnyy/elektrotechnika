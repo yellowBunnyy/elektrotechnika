{
 "cells": [
  {
   "cell_type": "code",
   "execution_count": 60,
   "id": "1936447d",
   "metadata": {},
   "outputs": [],
   "source": [
    "import numpy as np\n",
    "import pandas as pd\n",
    "import matplotlib.pyplot as plt\n",
    "from IPython.display import Image"
   ]
  },
  {
   "cell_type": "markdown",
   "id": "52bd1389",
   "metadata": {},
   "source": [
    "## Ćwiczenie 1.3\n",
    "### Pomiar impedancji oraz mocy dla prądu sinusoidalnego.\n",
    "### 1. Narysować schemat układu szeregowego Rezystor - Cewka\n",
    "### 2. Zamieścić analogowe pomiary w tabelce.\n",
    "### 3. Należy obliczyć:\n",
    "#### - Z => Impednacja\n",
    "#### - R => Rezystancja\n",
    "#### - X => Reaktancja\n",
    "#### - L => Indukcyjność\n",
    "#### - Ur => napięcie na rezystorze\n",
    "#### - Ul => napięcie na cewce\n"
   ]
  },
  {
   "cell_type": "code",
   "execution_count": null,
   "id": "dcbd4062",
   "metadata": {},
   "outputs": [],
   "source": [
    "13. Schemat układu\n",
    "\n",
    "14. Wyniki pomiarów (tabelka)\n",
    "\n",
    "15. Obliczyć Z, R, X, L, Ur, UL,\n",
    "\n",
    "16. Narysować wykres wskazowy"
   ]
  },
  {
   "cell_type": "markdown",
   "id": "2295c9b4",
   "metadata": {},
   "source": [
    "## 1.3.1 Schemat"
   ]
  },
  {
   "cell_type": "code",
   "execution_count": null,
   "id": "45f655c5",
   "metadata": {},
   "outputs": [],
   "source": []
  },
  {
   "cell_type": "markdown",
   "id": "e1e669c4",
   "metadata": {},
   "source": [
    "## 1.3.2  Pomiary analogowe"
   ]
  },
  {
   "cell_type": "markdown",
   "id": "30159190",
   "metadata": {},
   "source": [
    "Aby dokonać pomiarów wielkości elektrycznych używając mierników analogowych należy posłużyć się poniższymy wzorami:\n",
    "### $ C_{p}=$ $\\frac{Zakres}{max\\ liczby\\ działek}$\n",
    "a następnie: <p>\n",
    "### $ wartość\\ zmierzona = C_{p} * wskazanie$"
   ]
  },
  {
   "cell_type": "code",
   "execution_count": 58,
   "id": "1f38526d",
   "metadata": {},
   "outputs": [],
   "source": [
    "cp_f = lambda data: data[0]/data[1]\n",
    "wskazanie_f = lambda data: data[0] * data[1]\n",
    "# wskazanie_skuteczne = lambda data: data/(2**.5)\n"
   ]
  },
  {
   "cell_type": "code",
   "execution_count": 67,
   "id": "b47b83af",
   "metadata": {},
   "outputs": [
    {
     "data": {
      "text/html": [
       "<div>\n",
       "<style scoped>\n",
       "    .dataframe tbody tr th:only-of-type {\n",
       "        vertical-align: middle;\n",
       "    }\n",
       "\n",
       "    .dataframe tbody tr th {\n",
       "        vertical-align: top;\n",
       "    }\n",
       "\n",
       "    .dataframe thead th {\n",
       "        text-align: right;\n",
       "    }\n",
       "</style>\n",
       "<table border=\"1\" class=\"dataframe\">\n",
       "  <thead>\n",
       "    <tr style=\"text-align: right;\">\n",
       "      <th></th>\n",
       "      <th>Zakres</th>\n",
       "      <th>max_liczba_dzialek</th>\n",
       "      <th>Wskazanie</th>\n",
       "      <th>CP</th>\n",
       "      <th>Wartości amplitudowe zmierzone</th>\n",
       "      <th>Wartości skuteczne</th>\n",
       "    </tr>\n",
       "  </thead>\n",
       "  <tbody>\n",
       "    <tr>\n",
       "      <th>I [A]</th>\n",
       "      <td>0.25</td>\n",
       "      <td>100.0</td>\n",
       "      <td>54.00</td>\n",
       "      <td>0.0025</td>\n",
       "      <td>0.135</td>\n",
       "      <td>0.095459</td>\n",
       "    </tr>\n",
       "    <tr>\n",
       "      <th>U [V]</th>\n",
       "      <td>50.00</td>\n",
       "      <td>250.0</td>\n",
       "      <td>180.00</td>\n",
       "      <td>0.2000</td>\n",
       "      <td>36.000</td>\n",
       "      <td>25.455844</td>\n",
       "    </tr>\n",
       "    <tr>\n",
       "      <th>P [W]</th>\n",
       "      <td>12.50</td>\n",
       "      <td>250.0</td>\n",
       "      <td>66.00</td>\n",
       "      <td>0.0500</td>\n",
       "      <td>3.300</td>\n",
       "      <td>2.333452</td>\n",
       "    </tr>\n",
       "    <tr>\n",
       "      <th>cosinus fi (przesunięcie fazowe)</th>\n",
       "      <td>NaN</td>\n",
       "      <td>NaN</td>\n",
       "      <td>0.71</td>\n",
       "      <td>NaN</td>\n",
       "      <td>NaN</td>\n",
       "      <td>NaN</td>\n",
       "    </tr>\n",
       "  </tbody>\n",
       "</table>\n",
       "</div>"
      ],
      "text/plain": [
       "                                  Zakres  max_liczba_dzialek  Wskazanie  \\\n",
       "I [A]                               0.25               100.0      54.00   \n",
       "U [V]                              50.00               250.0     180.00   \n",
       "P [W]                              12.50               250.0      66.00   \n",
       "cosinus fi (przesunięcie fazowe)     NaN                 NaN       0.71   \n",
       "\n",
       "                                      CP  Wartości amplitudowe zmierzone  \\\n",
       "I [A]                             0.0025                           0.135   \n",
       "U [V]                             0.2000                          36.000   \n",
       "P [W]                             0.0500                           3.300   \n",
       "cosinus fi (przesunięcie fazowe)     NaN                             NaN   \n",
       "\n",
       "                                  Wartości skuteczne  \n",
       "I [A]                                       0.095459  \n",
       "U [V]                                      25.455844  \n",
       "P [W]                                       2.333452  \n",
       "cosinus fi (przesunięcie fazowe)                 NaN  "
      ]
     },
     "execution_count": 67,
     "metadata": {},
     "output_type": "execute_result"
    }
   ],
   "source": [
    "analogowe_d = {'Zakres': [0.25, 50, 12.5, None], \"max_liczba_dzialek\": [100, 250, 250, None], \"Wskazanie\":[54, 180, 66, 0.71]}\n",
    "row_names = [\"I [A]\", \"U [V]\", \"P [W]\", \"cosinus fi (przesunięcie fazowe)\"]\n",
    "data = pd.DataFrame(analogowe_d, index=row_names)\n",
    "cp_data = np.apply_along_axis(cp_f, 1, data[[\"Zakres\", \"max_liczba_dzialek\"]].dropna().to_numpy())\n",
    "cp_data = np.append(cp_data, np.nan)\n",
    "data[\"CP\"] = cp_data\n",
    "pomiar = np.apply_along_axis(wskazanie_f, 1, data[[\"Wskazanie\", \"CP\"]].dropna().to_numpy())\n",
    "pomiar = np.append(pomiar, np.nan)\n",
    "data[\"Wartości amplitudowe zmierzone\"] = pomiar\n",
    "data[\"Wartości skuteczne\"] = data[\"Wartości amplitudowe zmierzone\"] / 2**.5\n",
    "data\n"
   ]
  },
  {
   "cell_type": "markdown",
   "id": "a888a77f",
   "metadata": {},
   "source": [
    "## 1.3.3 Obliczenia\n"
   ]
  },
  {
   "cell_type": "markdown",
   "id": "885aace1",
   "metadata": {},
   "source": [
    "Aby obliczyć impedancję należy skorzystać z wozru:\n",
    "U = I * Z\n",
    "\n"
   ]
  },
  {
   "cell_type": "markdown",
   "id": "bf88f008",
   "metadata": {},
   "source": [
    "## 1.3.4. Wykres wskazowy"
   ]
  },
  {
   "cell_type": "code",
   "execution_count": 62,
   "id": "f13c0002",
   "metadata": {},
   "outputs": [
    {
     "data": {
      "text/plain": [
       "1.4142135623730951"
      ]
     },
     "execution_count": 62,
     "metadata": {},
     "output_type": "execute_result"
    }
   ],
   "source": [
    "2**.5"
   ]
  }
 ],
 "metadata": {
  "kernelspec": {
   "display_name": "Python 3 (ipykernel)",
   "language": "python",
   "name": "python3"
  },
  "language_info": {
   "codemirror_mode": {
    "name": "ipython",
    "version": 3
   },
   "file_extension": ".py",
   "mimetype": "text/x-python",
   "name": "python",
   "nbconvert_exporter": "python",
   "pygments_lexer": "ipython3",
   "version": "3.8.10"
  }
 },
 "nbformat": 4,
 "nbformat_minor": 5
}
