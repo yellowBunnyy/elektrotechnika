{
 "cells": [
  {
   "cell_type": "code",
   "execution_count": 2,
   "id": "1936447d",
   "metadata": {},
   "outputs": [],
   "source": [
    "import pandas as pd\n",
    "import matplotlib.pyplot as plt\n",
    "from IPython.display import Image"
   ]
  },
  {
   "cell_type": "markdown",
   "id": "52bd1389",
   "metadata": {},
   "source": [
    "## Ćwiczenie 1.3\n",
    "### Pomiar impedancji oraz mocy dla prądu sinusoidalnego.\n",
    "### 1. Narysować schemat układu szeregowego Rezystor - Cewka\n",
    "### 2. Zamieścić analogowe pomiary w tabelce.\n",
    "### 3. Należy obliczyć:\n",
    "#### - Z => Impednacja\n",
    "#### - R => Rezystancja\n",
    "#### - X => Reaktancja\n",
    "#### - L => Indukcyjność\n",
    "#### - $U_{r}$ => napięcie na rezystorze\n",
    "#### - $U_{L} $ => napięcie na cewce\n"
   ]
  },
  {
   "cell_type": "markdown",
   "id": "e206c119",
   "metadata": {},
   "source": [
    "## 1.3.1 Schemat"
   ]
  },
  {
   "cell_type": "code",
   "execution_count": null,
   "id": "cc8e12ad",
   "metadata": {},
   "outputs": [],
   "source": []
  },
  {
   "cell_type": "markdown",
   "id": "e46424b0",
   "metadata": {},
   "source": [
    "## 1.3.2  Pomiary analogowe"
   ]
  },
  {
   "cell_type": "markdown",
   "id": "58ab05fb",
   "metadata": {},
   "source": [
    "Aby dokonać pomiarów wielkości elektrycznych używając mierników analogowych należy posłużyć się poniższymy wzorami:\n",
    "### $ C_{p}=$ $\\frac{Zakres}{max\\ liczby\\ działek}$\n",
    "a następnie: <p>\n",
    "### $ wartość\\ zmierzona = C_{p} * wskazanie$"
   ]
  },
  {
   "cell_type": "code",
   "execution_count": 3,
   "id": "eab688ef",
   "metadata": {},
   "outputs": [
    {
     "data": {
      "text/html": [
       "<div>\n",
       "<style scoped>\n",
       "    .dataframe tbody tr th:only-of-type {\n",
       "        vertical-align: middle;\n",
       "    }\n",
       "\n",
       "    .dataframe tbody tr th {\n",
       "        vertical-align: top;\n",
       "    }\n",
       "\n",
       "    .dataframe thead th {\n",
       "        text-align: right;\n",
       "    }\n",
       "</style>\n",
       "<table border=\"1\" class=\"dataframe\">\n",
       "  <thead>\n",
       "    <tr style=\"text-align: right;\">\n",
       "      <th></th>\n",
       "      <th>Zakres</th>\n",
       "      <th>max_liczba_dzialek</th>\n",
       "      <th>Wskazanie</th>\n",
       "      <th>CP</th>\n",
       "      <th>Wartości amplitudowe zmierzone</th>\n",
       "      <th>Wartości skuteczne zmierzone</th>\n",
       "    </tr>\n",
       "  </thead>\n",
       "  <tbody>\n",
       "    <tr>\n",
       "      <th>I [A]</th>\n",
       "      <td>0.25</td>\n",
       "      <td>100.0</td>\n",
       "      <td>54.00</td>\n",
       "      <td>0.0025</td>\n",
       "      <td>0.135</td>\n",
       "      <td>0.095459</td>\n",
       "    </tr>\n",
       "    <tr>\n",
       "      <th>U [V]</th>\n",
       "      <td>50.00</td>\n",
       "      <td>250.0</td>\n",
       "      <td>180.00</td>\n",
       "      <td>0.2000</td>\n",
       "      <td>36.000</td>\n",
       "      <td>25.455844</td>\n",
       "    </tr>\n",
       "    <tr>\n",
       "      <th>P [W]</th>\n",
       "      <td>12.50</td>\n",
       "      <td>250.0</td>\n",
       "      <td>66.00</td>\n",
       "      <td>0.0500</td>\n",
       "      <td>3.300</td>\n",
       "      <td>2.333452</td>\n",
       "    </tr>\n",
       "    <tr>\n",
       "      <th>cosinus fi (przesunięcie fazowe)</th>\n",
       "      <td>NaN</td>\n",
       "      <td>NaN</td>\n",
       "      <td>0.71</td>\n",
       "      <td>NaN</td>\n",
       "      <td>NaN</td>\n",
       "      <td>NaN</td>\n",
       "    </tr>\n",
       "  </tbody>\n",
       "</table>\n",
       "</div>"
      ],
      "text/plain": [
       "                                  Zakres  max_liczba_dzialek  Wskazanie  \\\n",
       "I [A]                               0.25               100.0      54.00   \n",
       "U [V]                              50.00               250.0     180.00   \n",
       "P [W]                              12.50               250.0      66.00   \n",
       "cosinus fi (przesunięcie fazowe)     NaN                 NaN       0.71   \n",
       "\n",
       "                                      CP  Wartości amplitudowe zmierzone  \\\n",
       "I [A]                             0.0025                           0.135   \n",
       "U [V]                             0.2000                          36.000   \n",
       "P [W]                             0.0500                           3.300   \n",
       "cosinus fi (przesunięcie fazowe)     NaN                             NaN   \n",
       "\n",
       "                                  Wartości skuteczne zmierzone  \n",
       "I [A]                                                 0.095459  \n",
       "U [V]                                                25.455844  \n",
       "P [W]                                                 2.333452  \n",
       "cosinus fi (przesunięcie fazowe)                           NaN  "
      ]
     },
     "execution_count": 3,
     "metadata": {},
     "output_type": "execute_result"
    }
   ],
   "source": [
    "analogowe_d = {'Zakres': [0.25, 50, 12.5, None], \"max_liczba_dzialek\": [100, 250, 250, None], \"Wskazanie\":[54, 180, 66, 0.71]}\n",
    "row_names = [\"I [A]\", \"U [V]\", \"P [W]\", \"cosinus fi (przesunięcie fazowe)\"]\n",
    "data = pd.DataFrame(analogowe_d, index=row_names)\n",
    "data[\"CP\"] = data[\"Zakres\"] / data[\"max_liczba_dzialek\"]\n",
    "data[\"Wartości amplitudowe zmierzone\"] = data[\"CP\"] * data[\"Wskazanie\"]\n",
    "data[\"Wartości skuteczne zmierzone\"] = data[\"Wartości amplitudowe zmierzone\"] / 2**.5\n",
    "data\n"
   ]
  },
  {
   "cell_type": "markdown",
   "id": "5759e415",
   "metadata": {},
   "source": [
    "## 1.3.3 Obliczenia\n"
   ]
  },
  {
   "cell_type": "markdown",
   "id": "f6641fa7",
   "metadata": {},
   "source": [
    "Liczymy impedancję też z prawa ochma gdzie impedancja zawiera Rezystancję R oraz reaktancję X.<p>\n",
    "$Z = \\frac{U}{I}=  \\frac{25.455}{0.0954} = 266.66 [{\\Omega}]$ <p>\n",
    "$\\omega = 2\\pi * f = 2* 3.14 * 100 = 628 [\\frac{rad}{s}] $ <p> \n",
    "$ cos \\phi = 0.71 \\approx cos(45^\\circ) = \\frac{\\sqrt2}{2}$ <p>\n",
    "$R = Z * cos\\phi = 266.66 * 0.71 = 189.328 [{\\Omega}]$ <p>\n",
    "$X_{L} = Z - R = 266.66-189.328 = 77.332 [{\\Omega}]$    \n",
    "$U_{R} = I * R = 0.0954 * 189.328 =  18.06[V]$ <p>\n",
    "Liczymy $U_{L} $ który wytwarza się wówczas gdy prąd płynie przez cewkę wytwarzając siłę elektromotoryczną.<p>\n",
    "$U_{L}= I * X_{L} = 0.0954 * 77.332 = 7.377 [V]$ <p>\n",
    "Moduł indukcyjności liczymy dla cewki z: <p>\n",
    "$L = \\frac {X_{L}}{\\omega} =  \\frac {77.332}{628} = 0.123[H]$ <p>\n",
    "\n"
   ]
  },
  {
   "cell_type": "markdown",
   "id": "72300791",
   "metadata": {},
   "source": [
    "## 1.3.4. Wykres wskazowy"
   ]
  },
  {
   "cell_type": "code",
   "execution_count": 1,
   "id": "9574842b",
   "metadata": {},
   "outputs": [
    {
     "data": {
      "text/plain": [
       "0.7071067811865476"
      ]
     },
     "execution_count": 1,
     "metadata": {},
     "output_type": "execute_result"
    }
   ],
   "source": [
    "\n"
   ]
  }
 ],
 "metadata": {
  "kernelspec": {
   "display_name": "Python 3 (ipykernel)",
   "language": "python",
   "name": "python3"
  },
  "language_info": {
   "codemirror_mode": {
    "name": "ipython",
    "version": 3
   },
   "file_extension": ".py",
   "mimetype": "text/x-python",
   "name": "python",
   "nbconvert_exporter": "python",
   "pygments_lexer": "ipython3",
   "version": "3.8.10"
  }
 },
 "nbformat": 4,
 "nbformat_minor": 5
}
