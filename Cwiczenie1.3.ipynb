{
 "cells": [
  {
   "cell_type": "code",
   "execution_count": 1,
   "id": "1936447d",
   "metadata": {},
   "outputs": [],
   "source": [
    "import pandas as pd\n",
    "import matplotlib.pyplot as plt"
   ]
  },
  {
   "cell_type": "markdown",
   "id": "52bd1389",
   "metadata": {},
   "source": [
    "### Ćwiczenie 1.3\n",
    "Pomiar impedancji oraz mocy dla prądu sinusoidalnego.\n",
    "Należy obliczyć:\n",
    "-\n",
    "-\n",
    "-\n",
    "-\n",
    "\n"
   ]
  }
 ],
 "metadata": {
  "kernelspec": {
   "display_name": "Python 3 (ipykernel)",
   "language": "python",
   "name": "python3"
  },
  "language_info": {
   "codemirror_mode": {
    "name": "ipython",
    "version": 3
   },
   "file_extension": ".py",
   "mimetype": "text/x-python",
   "name": "python",
   "nbconvert_exporter": "python",
   "pygments_lexer": "ipython3",
   "version": "3.8.10"
  }
 },
 "nbformat": 4,
 "nbformat_minor": 5
}
