{
 "cells": [
  {
   "cell_type": "code",
   "execution_count": 38,
   "id": "26b16a0f",
   "metadata": {},
   "outputs": [],
   "source": [
    "import pandas as pd\n",
    "import numpy as np\n",
    "import os\n",
    "from IPython.display import Image"
   ]
  },
  {
   "cell_type": "markdown",
   "id": "44d9c664",
   "metadata": {},
   "source": [
    "### 1. Badanie rezystancji uzwojeń transformatora."
   ]
  },
  {
   "cell_type": "markdown",
   "id": "90e37d1b",
   "metadata": {},
   "source": [
    "Konwersja danych z miernika analogowego:"
   ]
  },
  {
   "cell_type": "code",
   "execution_count": 14,
   "id": "9078c645",
   "metadata": {},
   "outputs": [
    {
     "data": {
      "text/plain": [
       "120.0"
      ]
     },
     "execution_count": 14,
     "metadata": {},
     "output_type": "execute_result"
    }
   ],
   "source": [
    "conversion = lambda zakres, max_l_dz, wskazanie: (zakres/max_l_dz) * wskazanie\n",
    "conversion(300,300,120)"
   ]
  },
  {
   "cell_type": "code",
   "execution_count": 14,
   "id": "e871db80",
   "metadata": {},
   "outputs": [
    {
     "data": {
      "text/html": [
       "<style type=\"text/css\">\n",
       "</style>\n",
       "<table id=\"T_7f64c_\">\n",
       "  <caption>Tabela 1. Wyniki pomiarów dokonanych podczas badania rezystancji uzwojenia transformatora.</caption>\n",
       "  <thead>\n",
       "    <tr>\n",
       "      <th class=\"blank level0\" >&nbsp;</th>\n",
       "      <th class=\"col_heading level0 col0\" colspan=\"3\">Uzwojenie gorne</th>\n",
       "      <th class=\"col_heading level0 col3\" colspan=\"3\">Uzwojenie dolne</th>\n",
       "    </tr>\n",
       "    <tr>\n",
       "      <th class=\"blank level1\" >&nbsp;</th>\n",
       "      <th class=\"col_heading level1 col0\" >U[V]</th>\n",
       "      <th class=\"col_heading level1 col1\" >I[A]</th>\n",
       "      <th class=\"col_heading level1 col2\" >R[ohm]</th>\n",
       "      <th class=\"col_heading level1 col3\" >U[V]</th>\n",
       "      <th class=\"col_heading level1 col4\" >I[A]</th>\n",
       "      <th class=\"col_heading level1 col5\" >R[ohm]</th>\n",
       "    </tr>\n",
       "    <tr>\n",
       "      <th class=\"index_name level0\" >Wyniki pomiarów:</th>\n",
       "      <th class=\"blank col0\" >&nbsp;</th>\n",
       "      <th class=\"blank col1\" >&nbsp;</th>\n",
       "      <th class=\"blank col2\" >&nbsp;</th>\n",
       "      <th class=\"blank col3\" >&nbsp;</th>\n",
       "      <th class=\"blank col4\" >&nbsp;</th>\n",
       "      <th class=\"blank col5\" >&nbsp;</th>\n",
       "    </tr>\n",
       "  </thead>\n",
       "  <tbody>\n",
       "    <tr>\n",
       "      <th id=\"T_7f64c_level0_row0\" class=\"row_heading level0 row0\" >Pomiar 1</th>\n",
       "      <td id=\"T_7f64c_row0_col0\" class=\"data row0 col0\" >2.050000</td>\n",
       "      <td id=\"T_7f64c_row0_col1\" class=\"data row0 col1\" >2</td>\n",
       "      <td id=\"T_7f64c_row0_col2\" class=\"data row0 col2\" >1.025000</td>\n",
       "      <td id=\"T_7f64c_row0_col3\" class=\"data row0 col3\" >6.172000</td>\n",
       "      <td id=\"T_7f64c_row0_col4\" class=\"data row0 col4\" >2</td>\n",
       "      <td id=\"T_7f64c_row0_col5\" class=\"data row0 col5\" >1.025000</td>\n",
       "    </tr>\n",
       "  </tbody>\n",
       "</table>\n"
      ],
      "text/plain": [
       "<pandas.io.formats.style.Styler at 0x7f91c3688190>"
      ]
     },
     "execution_count": 14,
     "metadata": {},
     "output_type": "execute_result"
    }
   ],
   "source": [
    "l = [2.050,2,1.025,6.172,2,1.025]\n",
    "n_pomiar = 1\n",
    "data = [l] * n_pomiar\n",
    "\n",
    "\n",
    "df1 = pd.DataFrame(data,index=pd.Index([f'Pomiar {i+1}' for i in range(n_pomiar)], \n",
    "                                      name='Wyniki pomiarów:'),\n",
    "                  columns=pd.MultiIndex.from_product([['Uzwojenie gorne', 'Uzwojenie dolne'], \n",
    "                                                      ['U[V]', 'I[A]', 'R[ohm]']]))\n",
    "df1 = df1.style.set_caption('Tabela 1. Wyniki pomiarów dokonanych podczas badania rezystancji uzwojenia transformatora.')\n",
    "\n",
    "\n",
    "df1"
   ]
  },
  {
   "cell_type": "markdown",
   "id": "18c59a4b",
   "metadata": {},
   "source": [
    "Wartość średnia rezystancji $R_{1,śr} = 1.025[\\Omega]$\n",
    "\n"
   ]
  },
  {
   "cell_type": "markdown",
   "id": "99e7c9bd",
   "metadata": {},
   "source": [
    "### 2. Badanie przekładni napięciowej i prądowej transformatora."
   ]
  },
  {
   "cell_type": "code",
   "execution_count": 34,
   "id": "0f7920ed",
   "metadata": {},
   "outputs": [
    {
     "data": {
      "text/html": [
       "<style type=\"text/css\">\n",
       "</style>\n",
       "<table id=\"T_e3023_\">\n",
       "  <caption>Tabela 2. Wyniki pomiarów przekładni napięciowej i prądowej transformatora.</caption>\n",
       "  <thead>\n",
       "    <tr>\n",
       "      <th class=\"blank level0\" >&nbsp;</th>\n",
       "      <th class=\"col_heading level0 col0\" >Pomiar1</th>\n",
       "      <th class=\"col_heading level0 col1\" >Uśr[V]</th>\n",
       "      <th class=\"col_heading level0 col2\" >przekładnia[V][A]</th>\n",
       "    </tr>\n",
       "    <tr>\n",
       "      <th class=\"index_name level0\" >Wyniki pomiarów:</th>\n",
       "      <th class=\"blank col0\" >&nbsp;</th>\n",
       "      <th class=\"blank col1\" >&nbsp;</th>\n",
       "      <th class=\"blank col2\" >&nbsp;</th>\n",
       "    </tr>\n",
       "  </thead>\n",
       "  <tbody>\n",
       "    <tr>\n",
       "      <th id=\"T_e3023_level0_row0\" class=\"row_heading level0 row0\" >U_1[V]</th>\n",
       "      <td id=\"T_e3023_row0_col0\" class=\"data row0 col0\" >230.000000</td>\n",
       "      <td id=\"T_e3023_row0_col1\" class=\"data row0 col1\" >230.000000</td>\n",
       "      <td id=\"T_e3023_row0_col2\" class=\"data row0 col2\" >1.703704</td>\n",
       "    </tr>\n",
       "    <tr>\n",
       "      <th id=\"T_e3023_level0_row1\" class=\"row_heading level0 row1\" >U_2[V]</th>\n",
       "      <td id=\"T_e3023_row1_col0\" class=\"data row1 col0\" >135.000000</td>\n",
       "      <td id=\"T_e3023_row1_col1\" class=\"data row1 col1\" >135.000000</td>\n",
       "      <td id=\"T_e3023_row1_col2\" class=\"data row1 col2\" >1.703704</td>\n",
       "    </tr>\n",
       "    <tr>\n",
       "      <th id=\"T_e3023_level0_row2\" class=\"row_heading level0 row2\" >I_1[A]</th>\n",
       "      <td id=\"T_e3023_row2_col0\" class=\"data row2 col0\" >2.500000</td>\n",
       "      <td id=\"T_e3023_row2_col1\" class=\"data row2 col1\" >2.500000</td>\n",
       "      <td id=\"T_e3023_row2_col2\" class=\"data row2 col2\" >1.600000</td>\n",
       "    </tr>\n",
       "    <tr>\n",
       "      <th id=\"T_e3023_level0_row3\" class=\"row_heading level0 row3\" >I_2[A]</th>\n",
       "      <td id=\"T_e3023_row3_col0\" class=\"data row3 col0\" >4.000000</td>\n",
       "      <td id=\"T_e3023_row3_col1\" class=\"data row3 col1\" >4.000000</td>\n",
       "      <td id=\"T_e3023_row3_col2\" class=\"data row3 col2\" >1.600000</td>\n",
       "    </tr>\n",
       "  </tbody>\n",
       "</table>\n"
      ],
      "text/plain": [
       "<pandas.io.formats.style.Styler at 0x7f91c01b5070>"
      ]
     },
     "execution_count": 34,
     "metadata": {},
     "output_type": "execute_result"
    }
   ],
   "source": [
    "l = [0,0,0] # test samples\n",
    "n_samples = 4\n",
    "data = [l] * n_samples\n",
    "\n",
    "gear = lambda sr1, sr2: sr1/sr2 # calc for U sr1/sr2 , for I sr2/sr1\n",
    "\n",
    "df2 = pd.DataFrame(data, index=pd.Index([f'U_{i+1}[V]' if i < 2 else f'I_{i-1}[A]' for i in range(n_samples)], \n",
    "                                      name='Wyniki pomiarów:'),\n",
    "                  columns=[\"Pomiar1\", \"Uśr[V]\", \"przekładnia[V][A]\"])\n",
    "\n",
    "df2.iloc[0,0] = 230\n",
    "df2.iloc[1,0] = 135\n",
    "df2.iloc[2,0] = 2.5\n",
    "df2.iloc[3,0] = 4\n",
    "df2.iloc[0,1] = df2.iloc[0,0]\n",
    "df2.iloc[1,1] = df2.iloc[1,0]\n",
    "df2.iloc[2,1] = df2.iloc[2,0]\n",
    "df2.iloc[3,1] = df2.iloc[3,0] \n",
    "df2.iloc[0,2] = gear(df2.iloc[0,0], df2.iloc[1,0])\n",
    "df2.iloc[1,2] = gear(df2.iloc[0,0], df2.iloc[1,0])\n",
    "df2.iloc[2,2] = gear(df2.iloc[3,0], df2.iloc[2,0])\n",
    "df2.iloc[3,2] = gear(df2.iloc[3,0], df2.iloc[2,0])\n",
    "df2 = df2.style.set_caption('Tabela 2. Wyniki pomiarów przekładni napięciowej i prądowej transformatora.')\n",
    "df2\n",
    "\n",
    "\n"
   ]
  },
  {
   "cell_type": "markdown",
   "id": "618d8864",
   "metadata": {},
   "source": [
    "### 3. Badanie stanu jałowego."
   ]
  },
  {
   "cell_type": "markdown",
   "id": "ca3af80d",
   "metadata": {},
   "source": [
    "Dla obliczenia poniższych wielkości potrzebujemy skorzystać z poniższych wzorów:<p>\n",
    "### $cos\\phi_{0}=\\frac {P_{0}}{U_{0} * I_{0}}$\n",
    "### $I_{cz}=I_{0}*cos\\phi_{0}$\n",
    "### $I_{\\mu}=I_{0}*sin\\phi_{0}$  "
   ]
  },
  {
   "cell_type": "code",
   "execution_count": 40,
   "id": "630e6508",
   "metadata": {},
   "outputs": [
    {
     "data": {
      "image/png": "[encoded data removed]",
      "text/plain": [
       "<IPython.core.display.Image object>"
      ]
     },
     "execution_count": 40,
     "metadata": {},
     "output_type": "execute_result"
    }
   ],
   "source": [
    "path = \"./jalowy.png\"\n",
    "Image(path)"
   ]
  },
  {
   "cell_type": "code",
   "execution_count": 10,
   "id": "6b7eb13a",
   "metadata": {},
   "outputs": [
    {
     "data": {
      "text/html": [
       "<style type=\"text/css\">\n",
       "</style>\n",
       "<table id=\"T_9b8cc_\">\n",
       "  <caption>Tabela 3. Wyniki pomiarów charakterystyk stanu jałowego</caption>\n",
       "  <thead>\n",
       "    <tr>\n",
       "      <th class=\"blank level0\" >&nbsp;</th>\n",
       "      <th class=\"col_heading level0 col0\" >U_0[V]</th>\n",
       "      <th class=\"col_heading level0 col1\" >I_0[A]</th>\n",
       "      <th class=\"col_heading level0 col2\" >P_0[W]</th>\n",
       "      <th class=\"col_heading level0 col3\" >cos fi_0</th>\n",
       "      <th class=\"col_heading level0 col4\" >Im[A]</th>\n",
       "      <th class=\"col_heading level0 col5\" >Icz[A]</th>\n",
       "    </tr>\n",
       "  </thead>\n",
       "  <tbody>\n",
       "    <tr>\n",
       "      <th id=\"T_9b8cc_level0_row0\" class=\"row_heading level0 row0\" >1</th>\n",
       "      <td id=\"T_9b8cc_row0_col0\" class=\"data row0 col0\" >230</td>\n",
       "      <td id=\"T_9b8cc_row0_col1\" class=\"data row0 col1\" >0.168000</td>\n",
       "      <td id=\"T_9b8cc_row0_col2\" class=\"data row0 col2\" >7.600000</td>\n",
       "      <td id=\"T_9b8cc_row0_col3\" class=\"data row0 col3\" >0.196687</td>\n",
       "      <td id=\"T_9b8cc_row0_col4\" class=\"data row0 col4\" >0.164761</td>\n",
       "      <td id=\"T_9b8cc_row0_col5\" class=\"data row0 col5\" >0.033043</td>\n",
       "    </tr>\n",
       "    <tr>\n",
       "      <th id=\"T_9b8cc_level0_row1\" class=\"row_heading level0 row1\" >2</th>\n",
       "      <td id=\"T_9b8cc_row1_col0\" class=\"data row1 col0\" >211</td>\n",
       "      <td id=\"T_9b8cc_row1_col1\" class=\"data row1 col1\" >0.121000</td>\n",
       "      <td id=\"T_9b8cc_row1_col2\" class=\"data row1 col2\" >6.400000</td>\n",
       "      <td id=\"T_9b8cc_row1_col3\" class=\"data row1 col3\" >0.250676</td>\n",
       "      <td id=\"T_9b8cc_row1_col4\" class=\"data row1 col4\" >0.117218</td>\n",
       "      <td id=\"T_9b8cc_row1_col5\" class=\"data row1 col5\" >0.030332</td>\n",
       "    </tr>\n",
       "    <tr>\n",
       "      <th id=\"T_9b8cc_level0_row2\" class=\"row_heading level0 row2\" >3</th>\n",
       "      <td id=\"T_9b8cc_row2_col0\" class=\"data row2 col0\" >220</td>\n",
       "      <td id=\"T_9b8cc_row2_col1\" class=\"data row2 col1\" >0.140000</td>\n",
       "      <td id=\"T_9b8cc_row2_col2\" class=\"data row2 col2\" >6.900000</td>\n",
       "      <td id=\"T_9b8cc_row2_col3\" class=\"data row2 col3\" >0.224026</td>\n",
       "      <td id=\"T_9b8cc_row2_col4\" class=\"data row2 col4\" >0.136502</td>\n",
       "      <td id=\"T_9b8cc_row2_col5\" class=\"data row2 col5\" >0.031364</td>\n",
       "    </tr>\n",
       "    <tr>\n",
       "      <th id=\"T_9b8cc_level0_row3\" class=\"row_heading level0 row3\" >4</th>\n",
       "      <td id=\"T_9b8cc_row3_col0\" class=\"data row3 col0\" >199</td>\n",
       "      <td id=\"T_9b8cc_row3_col1\" class=\"data row3 col1\" >0.100000</td>\n",
       "      <td id=\"T_9b8cc_row3_col2\" class=\"data row3 col2\" >5.600000</td>\n",
       "      <td id=\"T_9b8cc_row3_col3\" class=\"data row3 col3\" >0.281407</td>\n",
       "      <td id=\"T_9b8cc_row3_col4\" class=\"data row3 col4\" >0.096067</td>\n",
       "      <td id=\"T_9b8cc_row3_col5\" class=\"data row3 col5\" >0.028141</td>\n",
       "    </tr>\n",
       "    <tr>\n",
       "      <th id=\"T_9b8cc_level0_row4\" class=\"row_heading level0 row4\" >5</th>\n",
       "      <td id=\"T_9b8cc_row4_col0\" class=\"data row4 col0\" >190</td>\n",
       "      <td id=\"T_9b8cc_row4_col1\" class=\"data row4 col1\" >0.089000</td>\n",
       "      <td id=\"T_9b8cc_row4_col2\" class=\"data row4 col2\" >5.200000</td>\n",
       "      <td id=\"T_9b8cc_row4_col3\" class=\"data row4 col3\" >0.307510</td>\n",
       "      <td id=\"T_9b8cc_row4_col4\" class=\"data row4 col4\" >0.084825</td>\n",
       "      <td id=\"T_9b8cc_row4_col5\" class=\"data row4 col5\" >0.027368</td>\n",
       "    </tr>\n",
       "    <tr>\n",
       "      <th id=\"T_9b8cc_level0_row5\" class=\"row_heading level0 row5\" >6</th>\n",
       "      <td id=\"T_9b8cc_row5_col0\" class=\"data row5 col0\" >180</td>\n",
       "      <td id=\"T_9b8cc_row5_col1\" class=\"data row5 col1\" >0.077000</td>\n",
       "      <td id=\"T_9b8cc_row5_col2\" class=\"data row5 col2\" >4.700000</td>\n",
       "      <td id=\"T_9b8cc_row5_col3\" class=\"data row5 col3\" >0.339105</td>\n",
       "      <td id=\"T_9b8cc_row5_col4\" class=\"data row5 col4\" >0.072615</td>\n",
       "      <td id=\"T_9b8cc_row5_col5\" class=\"data row5 col5\" >0.026111</td>\n",
       "    </tr>\n",
       "    <tr>\n",
       "      <th id=\"T_9b8cc_level0_row6\" class=\"row_heading level0 row6\" >7</th>\n",
       "      <td id=\"T_9b8cc_row6_col0\" class=\"data row6 col0\" >170</td>\n",
       "      <td id=\"T_9b8cc_row6_col1\" class=\"data row6 col1\" >0.068000</td>\n",
       "      <td id=\"T_9b8cc_row6_col2\" class=\"data row6 col2\" >4.300000</td>\n",
       "      <td id=\"T_9b8cc_row6_col3\" class=\"data row6 col3\" >0.371972</td>\n",
       "      <td id=\"T_9b8cc_row6_col4\" class=\"data row6 col4\" >0.063350</td>\n",
       "      <td id=\"T_9b8cc_row6_col5\" class=\"data row6 col5\" >0.025294</td>\n",
       "    </tr>\n",
       "    <tr>\n",
       "      <th id=\"T_9b8cc_level0_row7\" class=\"row_heading level0 row7\" >8</th>\n",
       "      <td id=\"T_9b8cc_row7_col0\" class=\"data row7 col0\" >159</td>\n",
       "      <td id=\"T_9b8cc_row7_col1\" class=\"data row7 col1\" >0.060000</td>\n",
       "      <td id=\"T_9b8cc_row7_col2\" class=\"data row7 col2\" >3.800000</td>\n",
       "      <td id=\"T_9b8cc_row7_col3\" class=\"data row7 col3\" >0.398323</td>\n",
       "      <td id=\"T_9b8cc_row7_col4\" class=\"data row7 col4\" >0.055303</td>\n",
       "      <td id=\"T_9b8cc_row7_col5\" class=\"data row7 col5\" >0.023899</td>\n",
       "    </tr>\n",
       "    <tr>\n",
       "      <th id=\"T_9b8cc_level0_row8\" class=\"row_heading level0 row8\" >9</th>\n",
       "      <td id=\"T_9b8cc_row8_col0\" class=\"data row8 col0\" >150</td>\n",
       "      <td id=\"T_9b8cc_row8_col1\" class=\"data row8 col1\" >0.054000</td>\n",
       "      <td id=\"T_9b8cc_row8_col2\" class=\"data row8 col2\" >3.400000</td>\n",
       "      <td id=\"T_9b8cc_row8_col3\" class=\"data row8 col3\" >0.419753</td>\n",
       "      <td id=\"T_9b8cc_row8_col4\" class=\"data row8 col4\" >0.049312</td>\n",
       "      <td id=\"T_9b8cc_row8_col5\" class=\"data row8 col5\" >0.022667</td>\n",
       "    </tr>\n",
       "    <tr>\n",
       "      <th id=\"T_9b8cc_level0_row9\" class=\"row_heading level0 row9\" >10</th>\n",
       "      <td id=\"T_9b8cc_row9_col0\" class=\"data row9 col0\" >140</td>\n",
       "      <td id=\"T_9b8cc_row9_col1\" class=\"data row9 col1\" >0.041000</td>\n",
       "      <td id=\"T_9b8cc_row9_col2\" class=\"data row9 col2\" >3.100000</td>\n",
       "      <td id=\"T_9b8cc_row9_col3\" class=\"data row9 col3\" >0.540070</td>\n",
       "      <td id=\"T_9b8cc_row9_col4\" class=\"data row9 col4\" >0.035165</td>\n",
       "      <td id=\"T_9b8cc_row9_col5\" class=\"data row9 col5\" >0.022143</td>\n",
       "    </tr>\n",
       "  </tbody>\n",
       "</table>\n"
      ],
      "text/plain": [
       "<pandas.io.formats.style.Styler at 0x7f93970a3490>"
      ]
     },
     "execution_count": 10,
     "metadata": {},
     "output_type": "execute_result"
    }
   ],
   "source": [
    "l = [1,2,3,0,0,0]\n",
    "data = [[230, 0.168, 7.6],\n",
    "                [211, 0.121, 6.4],\n",
    "                [220, 0.14, 6.9],\n",
    "                [199, 0.1, 5.6],\n",
    "                [190, 0.089, 5.2],\n",
    "                [180, 0.077, 4.7],\n",
    "                [170, 0.068, 4.3],\n",
    "                [159, 0.06, 3.8],\n",
    "                [150, 0.054, 3.4],\n",
    "                [140, 0.041, 3.1],]\n",
    "\n",
    "n_samples = len(data)\n",
    "\n",
    "cos_fi_0 = lambda p_0, u_0, i_0: p_0 / (u_0 * i_0)\n",
    "\n",
    "i_m = lambda i_0, cos_fi_0: i_0 * np.cos(cos_fi_0)\n",
    "\n",
    "i_cz = lambda i_0, cos_fi_0: i_0 * cos_fi_0\n",
    "\n",
    "\n",
    "df3 = pd.DataFrame(data, columns=[\"U_0[V]\", \"I_0[A]\", \"P_0[W]\"],\n",
    "                  index=np.arange(n_samples)+1)\n",
    "\n",
    "df3[\"cos fi_0\"] = cos_fi_0(df3[\"P_0[W]\"], df3[\"U_0[V]\"], df3[\"I_0[A]\"])\n",
    "\n",
    "df3[\"Im[A]\"] = i_m(df3[\"I_0[A]\"], df3[\"cos fi_0\"])\n",
    "\n",
    "df3[\"Icz[A]\"] = i_cz(df3[\"I_0[A]\"], df3[\"cos fi_0\"])\n",
    "df3 = df3.style.set_caption(\"Tabela 3. Wyniki pomiarów charakterystyk stanu jałowego\")\n",
    "df3\n"
   ]
  },
  {
   "cell_type": "markdown",
   "id": "6d090aff",
   "metadata": {},
   "source": [
    "### 4. Badanie stanu obciążenia"
   ]
  },
  {
   "cell_type": "markdown",
   "id": "f125eafd",
   "metadata": {},
   "source": [
    "Dla obliczenia poniższych wielkości potrzebujemy skorzystać z poniższych wzorów:<p>\n",
    "### $P_{2}=U_{2} * I_{2}$\n",
    "### $cos\\phi_{1}=\\frac {P_{1}}{U_{1} * I_{1}}$\n",
    "### $\\eta=\\frac {P_{2}}{P_{1}} * 100\\%$  "
   ]
  },
  {
   "cell_type": "code",
   "execution_count": 41,
   "id": "2f14350f",
   "metadata": {},
   "outputs": [
    {
     "data": {
      "image/png": "[encoded data removed]",
      "text/plain": [
       "<IPython.core.display.Image object>"
      ]
     },
     "execution_count": 41,
     "metadata": {},
     "output_type": "execute_result"
    }
   ],
   "source": [
    "path = \"./obciazenie.png\"\n",
    "Image(path)"
   ]
  },
  {
   "cell_type": "code",
   "execution_count": 22,
   "id": "a138e1c9",
   "metadata": {},
   "outputs": [
    {
     "data": {
      "text/html": [
       "<style type=\"text/css\">\n",
       "</style>\n",
       "<table id=\"T_c07fa_\">\n",
       "  <caption>Tabela 4. Wyniki pomiaru stanu obciążenia transformatora</caption>\n",
       "  <thead>\n",
       "    <tr>\n",
       "      <th class=\"blank level0\" >&nbsp;</th>\n",
       "      <th class=\"col_heading level0 col0\" >U_1[V]</th>\n",
       "      <th class=\"col_heading level0 col1\" >I_1[A]</th>\n",
       "      <th class=\"col_heading level0 col2\" >P_1[W]</th>\n",
       "      <th class=\"col_heading level0 col3\" >U_2[V]</th>\n",
       "      <th class=\"col_heading level0 col4\" >I_2[A]</th>\n",
       "      <th class=\"col_heading level0 col5\" >P_2[W]</th>\n",
       "      <th class=\"col_heading level0 col6\" >cos_fi_1</th>\n",
       "      <th class=\"col_heading level0 col7\" >n[%]</th>\n",
       "      <th class=\"col_heading level0 col8\" >I_2/I_1[-]</th>\n",
       "    </tr>\n",
       "  </thead>\n",
       "  <tbody>\n",
       "    <tr>\n",
       "      <th id=\"T_c07fa_level0_row0\" class=\"row_heading level0 row0\" >1</th>\n",
       "      <td id=\"T_c07fa_row0_col0\" class=\"data row0 col0\" >210.000000</td>\n",
       "      <td id=\"T_c07fa_row0_col1\" class=\"data row0 col1\" >2.030000</td>\n",
       "      <td id=\"T_c07fa_row0_col2\" class=\"data row0 col2\" >419.000000</td>\n",
       "      <td id=\"T_c07fa_row0_col3\" class=\"data row0 col3\" >120</td>\n",
       "      <td id=\"T_c07fa_row0_col4\" class=\"data row0 col4\" >3.500000</td>\n",
       "      <td id=\"T_c07fa_row0_col5\" class=\"data row0 col5\" >420.000000</td>\n",
       "      <td id=\"T_c07fa_row0_col6\" class=\"data row0 col6\" >0.982876</td>\n",
       "      <td id=\"T_c07fa_row0_col7\" class=\"data row0 col7\" >100.238663</td>\n",
       "      <td id=\"T_c07fa_row0_col8\" class=\"data row0 col8\" >1.724138</td>\n",
       "    </tr>\n",
       "    <tr>\n",
       "      <th id=\"T_c07fa_level0_row1\" class=\"row_heading level0 row1\" >2</th>\n",
       "      <td id=\"T_c07fa_row1_col0\" class=\"data row1 col0\" >209.000000</td>\n",
       "      <td id=\"T_c07fa_row1_col1\" class=\"data row1 col1\" >1.736000</td>\n",
       "      <td id=\"T_c07fa_row1_col2\" class=\"data row1 col2\" >357.000000</td>\n",
       "      <td id=\"T_c07fa_row1_col3\" class=\"data row1 col3\" >120</td>\n",
       "      <td id=\"T_c07fa_row1_col4\" class=\"data row1 col4\" >3.000000</td>\n",
       "      <td id=\"T_c07fa_row1_col5\" class=\"data row1 col5\" >360.000000</td>\n",
       "      <td id=\"T_c07fa_row1_col6\" class=\"data row1 col6\" >0.983948</td>\n",
       "      <td id=\"T_c07fa_row1_col7\" class=\"data row1 col7\" >100.840336</td>\n",
       "      <td id=\"T_c07fa_row1_col8\" class=\"data row1 col8\" >1.728111</td>\n",
       "    </tr>\n",
       "    <tr>\n",
       "      <th id=\"T_c07fa_level0_row2\" class=\"row_heading level0 row2\" >3</th>\n",
       "      <td id=\"T_c07fa_row2_col0\" class=\"data row2 col0\" >210.000000</td>\n",
       "      <td id=\"T_c07fa_row2_col1\" class=\"data row2 col1\" >1.451000</td>\n",
       "      <td id=\"T_c07fa_row2_col2\" class=\"data row2 col2\" >300.000000</td>\n",
       "      <td id=\"T_c07fa_row2_col3\" class=\"data row2 col3\" >120</td>\n",
       "      <td id=\"T_c07fa_row2_col4\" class=\"data row2 col4\" >2.500000</td>\n",
       "      <td id=\"T_c07fa_row2_col5\" class=\"data row2 col5\" >300.000000</td>\n",
       "      <td id=\"T_c07fa_row2_col6\" class=\"data row2 col6\" >0.984543</td>\n",
       "      <td id=\"T_c07fa_row2_col7\" class=\"data row2 col7\" >100.000000</td>\n",
       "      <td id=\"T_c07fa_row2_col8\" class=\"data row2 col8\" >1.722950</td>\n",
       "    </tr>\n",
       "    <tr>\n",
       "      <th id=\"T_c07fa_level0_row3\" class=\"row_heading level0 row3\" >4</th>\n",
       "      <td id=\"T_c07fa_row3_col0\" class=\"data row3 col0\" >210.000000</td>\n",
       "      <td id=\"T_c07fa_row3_col1\" class=\"data row3 col1\" >1.169000</td>\n",
       "      <td id=\"T_c07fa_row3_col2\" class=\"data row3 col2\" >242.300000</td>\n",
       "      <td id=\"T_c07fa_row3_col3\" class=\"data row3 col3\" >120</td>\n",
       "      <td id=\"T_c07fa_row3_col4\" class=\"data row3 col4\" >2.000000</td>\n",
       "      <td id=\"T_c07fa_row3_col5\" class=\"data row3 col5\" >240.000000</td>\n",
       "      <td id=\"T_c07fa_row3_col6\" class=\"data row3 col6\" >0.987006</td>\n",
       "      <td id=\"T_c07fa_row3_col7\" class=\"data row3 col7\" >99.050764</td>\n",
       "      <td id=\"T_c07fa_row3_col8\" class=\"data row3 col8\" >1.710864</td>\n",
       "    </tr>\n",
       "    <tr>\n",
       "      <th id=\"T_c07fa_level0_row4\" class=\"row_heading level0 row4\" >5</th>\n",
       "      <td id=\"T_c07fa_row4_col0\" class=\"data row4 col0\" >210.700000</td>\n",
       "      <td id=\"T_c07fa_row4_col1\" class=\"data row4 col1\" >0.900000</td>\n",
       "      <td id=\"T_c07fa_row4_col2\" class=\"data row4 col2\" >186.200000</td>\n",
       "      <td id=\"T_c07fa_row4_col3\" class=\"data row4 col3\" >130</td>\n",
       "      <td id=\"T_c07fa_row4_col4\" class=\"data row4 col4\" >1.500000</td>\n",
       "      <td id=\"T_c07fa_row4_col5\" class=\"data row4 col5\" >195.000000</td>\n",
       "      <td id=\"T_c07fa_row4_col6\" class=\"data row4 col6\" >0.981912</td>\n",
       "      <td id=\"T_c07fa_row4_col7\" class=\"data row4 col7\" >104.726101</td>\n",
       "      <td id=\"T_c07fa_row4_col8\" class=\"data row4 col8\" >1.666667</td>\n",
       "    </tr>\n",
       "  </tbody>\n",
       "</table>\n"
      ],
      "text/plain": [
       "<pandas.io.formats.style.Styler at 0x7f9396b4d550>"
      ]
     },
     "execution_count": 22,
     "metadata": {},
     "output_type": "execute_result"
    }
   ],
   "source": [
    "data = [[210, 2.03, 419, 120, 3.5],\n",
    "                [209, 1.736, 357, 120, 3],\n",
    "                [210, 1.451, 300, 120, 2.5],\n",
    "                [210, 1.169, 242.3, 120, 2],\n",
    "                [210.7, 0.9, 186.2, 130, 1.5]]\n",
    "\n",
    "n_samples = len(data)\n",
    "helper_col = [\"P_2[W]\", \"cos_fi_1\", \"n[%]\", \"I_2/I_1[-]\"]\n",
    "df4 = pd.DataFrame(data, columns=[\"U_1[V]\", \"I_1[A]\", \"P_1[W]\", \"U_2[V]\", \"I_2[A]\"], index=np.arange(n_samples)+1)\n",
    "\n",
    "p_2 = lambda u_2, i_2: u_2 * i_2\n",
    "\n",
    "cos_fi_1 = lambda p_1, u_1, i_1: p_1/(u_1 * i_1)\n",
    "\n",
    "n = lambda p_2, p_1: (p_2/p_1) * 100\n",
    "\n",
    "df4[\"P_2[W]\"] = p_2(df4[\"U_2[V]\"], df4[\"I_2[A]\"])\n",
    "\n",
    "df4[\"cos_fi_1\"] = cos_fi_1(df4[\"P_1[W]\"], df4[\"U_1[V]\"], df4[\"I_1[A]\"])\n",
    "\n",
    "df4[\"n[%]\"] = n(df4[\"P_2[W]\"], df4[\"P_1[W]\"])\n",
    "\n",
    "df4[\"I_2/I_1[-]\"] = df4[\"I_2[A]\"]/df4[\"I_1[A]\"]\n",
    "\n",
    "df4=df4.style.set_caption(\"Tabela 4. Wyniki pomiaru stanu obciążenia transformatora\")\n",
    "\n",
    "\n",
    "df4\n"
   ]
  },
  {
   "cell_type": "markdown",
   "id": "c57a1e68",
   "metadata": {},
   "source": [
    "### 5. Badanie stanu zwarcia."
   ]
  },
  {
   "cell_type": "markdown",
   "id": "8c1b2f3b",
   "metadata": {},
   "source": [
    "Dla obliczenia poniższych wielkości potrzebujemy skorzystać z poniższych wzorów:<p>\n",
    "### $cos\\phi_{z}=\\frac {P_{z}}{U_{z} * I_{z}},$\n",
    "### $R_{z}= \\frac {P_{z}}{I_{z}^2},$\n",
    "### $X_{z}= \\sqrt{Z_{z}^2 - R_{z}^2},$\n",
    "### $Z_{z}=\\frac {U_{z}}{I_{z}},$\n",
    "### $P_{2}=R_{2,śr}*I_{2}^2$\n",
    "    "
   ]
  },
  {
   "cell_type": "code",
   "execution_count": 42,
   "id": "6ddee0ea",
   "metadata": {},
   "outputs": [
    {
     "data": {
      "image/png": "[encoded data removed]",
      "text/plain": [
       "<IPython.core.display.Image object>"
      ]
     },
     "execution_count": 42,
     "metadata": {},
     "output_type": "execute_result"
    }
   ],
   "source": [
    "path = \"./zwarcie.png\"\n",
    "Image(path)"
   ]
  },
  {
   "cell_type": "code",
   "execution_count": 34,
   "id": "66b7085d",
   "metadata": {},
   "outputs": [
    {
     "data": {
      "text/html": [
       "<style type=\"text/css\">\n",
       "</style>\n",
       "<table id=\"T_f9702_\">\n",
       "  <caption>Tabela 5. Tabela wyników pomiarów stanu zwarcia normalnego</caption>\n",
       "  <thead>\n",
       "    <tr>\n",
       "      <th class=\"blank level0\" >&nbsp;</th>\n",
       "      <th class=\"col_heading level0 col0\" >U_z[V]</th>\n",
       "      <th class=\"col_heading level0 col1\" >I_z[A]</th>\n",
       "      <th class=\"col_heading level0 col2\" >P_z[W]</th>\n",
       "      <th class=\"col_heading level0 col3\" >cos_fi_z</th>\n",
       "      <th class=\"col_heading level0 col4\" >R_z[ohm]</th>\n",
       "      <th class=\"col_heading level0 col5\" >Z_z[ohm]</th>\n",
       "      <th class=\"col_heading level0 col6\" >X_z[ohm]</th>\n",
       "      <th class=\"col_heading level0 col7\" >I_2[A]</th>\n",
       "      <th class=\"col_heading level0 col8\" >P_2[W]</th>\n",
       "    </tr>\n",
       "  </thead>\n",
       "  <tbody>\n",
       "    <tr>\n",
       "      <th id=\"T_f9702_level0_row0\" class=\"row_heading level0 row0\" >1</th>\n",
       "      <td id=\"T_f9702_row0_col0\" class=\"data row0 col0\" >40.000000</td>\n",
       "      <td id=\"T_f9702_row0_col1\" class=\"data row0 col1\" >2.900000</td>\n",
       "      <td id=\"T_f9702_row0_col2\" class=\"data row0 col2\" >54.700000</td>\n",
       "      <td id=\"T_f9702_row0_col3\" class=\"data row0 col3\" >0.471552</td>\n",
       "      <td id=\"T_f9702_row0_col4\" class=\"data row0 col4\" >6.504162</td>\n",
       "      <td id=\"T_f9702_row0_col5\" class=\"data row0 col5\" >13.793103</td>\n",
       "      <td id=\"T_f9702_row0_col6\" class=\"data row0 col6\" >12.163288</td>\n",
       "      <td id=\"T_f9702_row0_col7\" class=\"data row0 col7\" >5.000000</td>\n",
       "      <td id=\"T_f9702_row0_col8\" class=\"data row0 col8\" >33.332749</td>\n",
       "    </tr>\n",
       "    <tr>\n",
       "      <th id=\"T_f9702_level0_row1\" class=\"row_heading level0 row1\" >2</th>\n",
       "      <td id=\"T_f9702_row1_col0\" class=\"data row1 col0\" >35.500000</td>\n",
       "      <td id=\"T_f9702_row1_col1\" class=\"data row1 col1\" >2.570000</td>\n",
       "      <td id=\"T_f9702_row1_col2\" class=\"data row1 col2\" >43.100000</td>\n",
       "      <td id=\"T_f9702_row1_col3\" class=\"data row1 col3\" >0.472406</td>\n",
       "      <td id=\"T_f9702_row1_col4\" class=\"data row1 col4\" >6.525458</td>\n",
       "      <td id=\"T_f9702_row1_col5\" class=\"data row1 col5\" >13.813230</td>\n",
       "      <td id=\"T_f9702_row1_col6\" class=\"data row1 col6\" >12.174716</td>\n",
       "      <td id=\"T_f9702_row1_col7\" class=\"data row1 col7\" >4.500000</td>\n",
       "      <td id=\"T_f9702_row1_col8\" class=\"data row1 col8\" >29.999474</td>\n",
       "    </tr>\n",
       "    <tr>\n",
       "      <th id=\"T_f9702_level0_row2\" class=\"row_heading level0 row2\" >3</th>\n",
       "      <td id=\"T_f9702_row2_col0\" class=\"data row2 col0\" >31.400000</td>\n",
       "      <td id=\"T_f9702_row2_col1\" class=\"data row2 col1\" >2.270000</td>\n",
       "      <td id=\"T_f9702_row2_col2\" class=\"data row2 col2\" >33.900000</td>\n",
       "      <td id=\"T_f9702_row2_col3\" class=\"data row2 col3\" >0.475603</td>\n",
       "      <td id=\"T_f9702_row2_col4\" class=\"data row2 col4\" >6.578820</td>\n",
       "      <td id=\"T_f9702_row2_col5\" class=\"data row2 col5\" >13.832599</td>\n",
       "      <td id=\"T_f9702_row2_col6\" class=\"data row2 col6\" >12.167988</td>\n",
       "      <td id=\"T_f9702_row2_col7\" class=\"data row2 col7\" >4.000000</td>\n",
       "      <td id=\"T_f9702_row2_col8\" class=\"data row2 col8\" >26.666199</td>\n",
       "    </tr>\n",
       "    <tr>\n",
       "      <th id=\"T_f9702_level0_row3\" class=\"row_heading level0 row3\" >4</th>\n",
       "      <td id=\"T_f9702_row3_col0\" class=\"data row3 col0\" >27.700000</td>\n",
       "      <td id=\"T_f9702_row3_col1\" class=\"data row3 col1\" >2.010000</td>\n",
       "      <td id=\"T_f9702_row3_col2\" class=\"data row3 col2\" >26.300000</td>\n",
       "      <td id=\"T_f9702_row3_col3\" class=\"data row3 col3\" >0.472367</td>\n",
       "      <td id=\"T_f9702_row3_col4\" class=\"data row3 col4\" >6.509740</td>\n",
       "      <td id=\"T_f9702_row3_col5\" class=\"data row3 col5\" >13.781095</td>\n",
       "      <td id=\"T_f9702_row3_col6\" class=\"data row3 col6\" >12.146681</td>\n",
       "      <td id=\"T_f9702_row3_col7\" class=\"data row3 col7\" >3.500000</td>\n",
       "      <td id=\"T_f9702_row3_col8\" class=\"data row3 col8\" >23.332925</td>\n",
       "    </tr>\n",
       "    <tr>\n",
       "      <th id=\"T_f9702_level0_row4\" class=\"row_heading level0 row4\" >5</th>\n",
       "      <td id=\"T_f9702_row4_col0\" class=\"data row4 col0\" >24.700000</td>\n",
       "      <td id=\"T_f9702_row4_col1\" class=\"data row4 col1\" >1.717000</td>\n",
       "      <td id=\"T_f9702_row4_col2\" class=\"data row4 col2\" >19.300000</td>\n",
       "      <td id=\"T_f9702_row4_col3\" class=\"data row4 col3\" >0.455082</td>\n",
       "      <td id=\"T_f9702_row4_col4\" class=\"data row4 col4\" >6.546614</td>\n",
       "      <td id=\"T_f9702_row4_col5\" class=\"data row4 col5\" >14.385556</td>\n",
       "      <td id=\"T_f9702_row4_col6\" class=\"data row4 col6\" >12.809609</td>\n",
       "      <td id=\"T_f9702_row4_col7\" class=\"data row4 col7\" >3.000000</td>\n",
       "      <td id=\"T_f9702_row4_col8\" class=\"data row4 col8\" >19.999650</td>\n",
       "    </tr>\n",
       "    <tr>\n",
       "      <th id=\"T_f9702_level0_row5\" class=\"row_heading level0 row5\" >6</th>\n",
       "      <td id=\"T_f9702_row5_col0\" class=\"data row5 col0\" >19.600000</td>\n",
       "      <td id=\"T_f9702_row5_col1\" class=\"data row5 col1\" >1.420000</td>\n",
       "      <td id=\"T_f9702_row5_col2\" class=\"data row5 col2\" >13.300000</td>\n",
       "      <td id=\"T_f9702_row5_col3\" class=\"data row5 col3\" >0.477867</td>\n",
       "      <td id=\"T_f9702_row5_col4\" class=\"data row5 col4\" >6.595914</td>\n",
       "      <td id=\"T_f9702_row5_col5\" class=\"data row5 col5\" >13.802817</td>\n",
       "      <td id=\"T_f9702_row5_col6\" class=\"data row5 col6\" >12.124837</td>\n",
       "      <td id=\"T_f9702_row5_col7\" class=\"data row5 col7\" >2.500000</td>\n",
       "      <td id=\"T_f9702_row5_col8\" class=\"data row5 col8\" >16.666375</td>\n",
       "    </tr>\n",
       "    <tr>\n",
       "      <th id=\"T_f9702_level0_row6\" class=\"row_heading level0 row6\" >7</th>\n",
       "      <td id=\"T_f9702_row6_col0\" class=\"data row6 col0\" >15.500000</td>\n",
       "      <td id=\"T_f9702_row6_col1\" class=\"data row6 col1\" >1.117000</td>\n",
       "      <td id=\"T_f9702_row6_col2\" class=\"data row6 col2\" >8.200000</td>\n",
       "      <td id=\"T_f9702_row6_col3\" class=\"data row6 col3\" >0.473619</td>\n",
       "      <td id=\"T_f9702_row6_col4\" class=\"data row6 col4\" >6.572151</td>\n",
       "      <td id=\"T_f9702_row6_col5\" class=\"data row6 col5\" >13.876455</td>\n",
       "      <td id=\"T_f9702_row6_col6\" class=\"data row6 col6\" >12.221409</td>\n",
       "      <td id=\"T_f9702_row6_col7\" class=\"data row6 col7\" >2.000000</td>\n",
       "      <td id=\"T_f9702_row6_col8\" class=\"data row6 col8\" >13.333100</td>\n",
       "    </tr>\n",
       "    <tr>\n",
       "      <th id=\"T_f9702_level0_row7\" class=\"row_heading level0 row7\" >8</th>\n",
       "      <td id=\"T_f9702_row7_col0\" class=\"data row7 col0\" >11.600000</td>\n",
       "      <td id=\"T_f9702_row7_col1\" class=\"data row7 col1\" >0.837000</td>\n",
       "      <td id=\"T_f9702_row7_col2\" class=\"data row7 col2\" >4.600000</td>\n",
       "      <td id=\"T_f9702_row7_col3\" class=\"data row7 col3\" >0.473777</td>\n",
       "      <td id=\"T_f9702_row7_col4\" class=\"data row7 col4\" >6.566091</td>\n",
       "      <td id=\"T_f9702_row7_col5\" class=\"data row7 col5\" >13.859020</td>\n",
       "      <td id=\"T_f9702_row7_col6\" class=\"data row7 col6\" >12.204872</td>\n",
       "      <td id=\"T_f9702_row7_col7\" class=\"data row7 col7\" >1.500000</td>\n",
       "      <td id=\"T_f9702_row7_col8\" class=\"data row7 col8\" >9.999825</td>\n",
       "    </tr>\n",
       "    <tr>\n",
       "      <th id=\"T_f9702_level0_row8\" class=\"row_heading level0 row8\" >9</th>\n",
       "      <td id=\"T_f9702_row8_col0\" class=\"data row8 col0\" >7.500000</td>\n",
       "      <td id=\"T_f9702_row8_col1\" class=\"data row8 col1\" >0.500000</td>\n",
       "      <td id=\"T_f9702_row8_col2\" class=\"data row8 col2\" >1.900000</td>\n",
       "      <td id=\"T_f9702_row8_col3\" class=\"data row8 col3\" >0.506667</td>\n",
       "      <td id=\"T_f9702_row8_col4\" class=\"data row8 col4\" >7.600000</td>\n",
       "      <td id=\"T_f9702_row8_col5\" class=\"data row8 col5\" >15.000000</td>\n",
       "      <td id=\"T_f9702_row8_col6\" class=\"data row8 col6\" >12.932131</td>\n",
       "      <td id=\"T_f9702_row8_col7\" class=\"data row8 col7\" >1.000000</td>\n",
       "      <td id=\"T_f9702_row8_col8\" class=\"data row8 col8\" >6.666550</td>\n",
       "    </tr>\n",
       "  </tbody>\n",
       "</table>\n"
      ],
      "text/plain": [
       "<pandas.io.formats.style.Styler at 0x7f93965c1df0>"
      ]
     },
     "execution_count": 34,
     "metadata": {},
     "output_type": "execute_result"
    }
   ],
   "source": [
    "l = list(range(1,10)) # test data\n",
    "\n",
    "data = [[40, 2.9, 54.7],\n",
    "               [35.5, 2.57, 43.1],\n",
    "               [31.4, 2.27, 33.9],\n",
    "               [27.7, 2.01, 26.3],\n",
    "               [24.7, 1.717, 19.3],\n",
    "               [19.6, 1.42, 13.3],\n",
    "               [15.5, 1.117, 8.2],\n",
    "               [11.6, 0.837, 4.6],\n",
    "               [7.5, 0.5, 1.9]]\n",
    "\n",
    "\n",
    "n_samples = len(data)\n",
    "\n",
    "helper_cols=[\"cos_fi_z\", \"R_z[ohm]\", \"X_z[ohm]\", \"Z_z[ohm]\", \"I_2[A]\", \"P_2[W]\"]\n",
    "\n",
    "i_2_measurments = np.linspace(5, 1, 9)\n",
    "                              \n",
    "cos_fi_z = lambda p_z, u_z, i_z: p_z/(u_z * i_z)\n",
    "\n",
    "r_z = lambda p_z, i_z: p_z / (i_z**2)\n",
    "\n",
    "z_z = lambda u_z, i_z: u_z/i_z\n",
    "\n",
    "x_z = lambda z_z, r_z: (z_z**2 - r_z**2)**.5\n",
    "\n",
    "p_2 = lambda r_2_sr, i_2: r_2_sr * i_2**2 \n",
    "\n",
    "columns = [\"U_z[V]\", \"I_z[A]\", \"P_z[W]\"]\n",
    "df5 = pd.DataFrame(data, columns=columns, index=np.arange(n_samples)+1)\n",
    "\n",
    "df5[\"cos_fi_z\"] = cos_fi_z(df5[\"P_z[W]\"], df5[\"U_z[V]\"], df5[\"I_z[A]\"])\n",
    "\n",
    "df5[\"R_z[ohm]\"] = r_z(df5[\"P_z[W]\"], df5[\"I_z[A]\"])\n",
    "\n",
    "df5[\"Z_z[ohm]\"] = z_z(df5[\"U_z[V]\"], df5[\"I_z[A]\"])\n",
    "\n",
    "df5[\"X_z[ohm]\"] = x_z(df5[\"Z_z[ohm]\"], df5[\"R_z[ohm]\"])\n",
    "\n",
    "df5[\"I_2[A]\"] = i_2_measurments\n",
    "\n",
    "df5[\"P_2[W]\"] = np.mean(df5[\"R_z[ohm]\"]) * df5[\"I_2[A]\"]\n",
    "\n",
    "df5=df5.style.set_caption(\"Tabela 5. Tabela wyników pomiarów stanu zwarcia normalnego\")\n",
    "df5\n"
   ]
  },
  {
   "cell_type": "markdown",
   "id": "7f54c755",
   "metadata": {},
   "source": [
    "# TO DO\n",
    "   \n",
    "    b) Wykresy wykonać na PAPIERZE MILIMETROWYM!\n",
    "    c) Wyznaczyć charakterystyki stanu jałowego, tj. \n",
    "    d) Wyznaczyć charakterystyki stanu obciążenia, tj. \n",
    "    e) Wyznaczyć charakterystyki zwarciowe, tj. , \n",
    "    f) Przeprowadzić dyskusję wyników oraz podać wnioski wg wytycznych"
   ]
  }
 ],
 "metadata": {
  "kernelspec": {
   "display_name": "Python 3 (ipykernel)",
   "language": "python",
   "name": "python3"
  },
  "language_info": {
   "codemirror_mode": {
    "name": "ipython",
    "version": 3
   },
   "file_extension": ".py",
   "mimetype": "text/x-python",
   "name": "python",
   "nbconvert_exporter": "python",
   "pygments_lexer": "ipython3",
   "version": "3.9.5"
  }
 },
 "nbformat": 4,
 "nbformat_minor": 5
}
