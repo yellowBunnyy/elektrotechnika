{
 "cells": [
  {
   "cell_type": "code",
   "execution_count": 3,
   "id": "48ee40ad",
   "metadata": {},
   "outputs": [],
   "source": [
    "import pandas as pd\n",
    "import numpy as np\n",
    "import matplotlib"
   ]
  },
  {
   "cell_type": "markdown",
   "id": "6c5f6f7e",
   "metadata": {},
   "source": [
    "#### 1. Badanie rezystancji uzwojeń transformatora."
   ]
  },
  {
   "cell_type": "code",
   "execution_count": 72,
   "id": "1beeefc2",
   "metadata": {},
   "outputs": [
    {
     "data": {
      "text/html": [
       "<style type=\"text/css\">\n",
       "</style>\n",
       "<table id=\"T_12707_\">\n",
       "  <caption>Tabela 1. Wyniki pomiarów dokonanych podczas badania rezystancji uzwojenia transformatora.</caption>\n",
       "  <thead>\n",
       "    <tr>\n",
       "      <th class=\"blank level0\" >&nbsp;</th>\n",
       "      <th class=\"col_heading level0 col0\" colspan=\"3\">Uzwojenie gorne</th>\n",
       "      <th class=\"col_heading level0 col3\" colspan=\"3\">Uzwojenie dolne</th>\n",
       "    </tr>\n",
       "    <tr>\n",
       "      <th class=\"blank level1\" >&nbsp;</th>\n",
       "      <th class=\"col_heading level1 col0\" >U[V]</th>\n",
       "      <th class=\"col_heading level1 col1\" >I[A]</th>\n",
       "      <th class=\"col_heading level1 col2\" >R[ohm]</th>\n",
       "      <th class=\"col_heading level1 col3\" >U[V]</th>\n",
       "      <th class=\"col_heading level1 col4\" >I[A]</th>\n",
       "      <th class=\"col_heading level1 col5\" >R[ohm]</th>\n",
       "    </tr>\n",
       "    <tr>\n",
       "      <th class=\"index_name level0\" >Wyniki pomiarów:</th>\n",
       "      <th class=\"blank col0\" >&nbsp;</th>\n",
       "      <th class=\"blank col1\" >&nbsp;</th>\n",
       "      <th class=\"blank col2\" >&nbsp;</th>\n",
       "      <th class=\"blank col3\" >&nbsp;</th>\n",
       "      <th class=\"blank col4\" >&nbsp;</th>\n",
       "      <th class=\"blank col5\" >&nbsp;</th>\n",
       "    </tr>\n",
       "  </thead>\n",
       "  <tbody>\n",
       "    <tr>\n",
       "      <th id=\"T_12707_level0_row0\" class=\"row_heading level0 row0\" >Pomiar 1</th>\n",
       "      <td id=\"T_12707_row0_col0\" class=\"data row0 col0\" >1</td>\n",
       "      <td id=\"T_12707_row0_col1\" class=\"data row0 col1\" >2</td>\n",
       "      <td id=\"T_12707_row0_col2\" class=\"data row0 col2\" >3</td>\n",
       "      <td id=\"T_12707_row0_col3\" class=\"data row0 col3\" >4</td>\n",
       "      <td id=\"T_12707_row0_col4\" class=\"data row0 col4\" >5</td>\n",
       "      <td id=\"T_12707_row0_col5\" class=\"data row0 col5\" >6</td>\n",
       "    </tr>\n",
       "    <tr>\n",
       "      <th id=\"T_12707_level0_row1\" class=\"row_heading level0 row1\" >Pomiar 2</th>\n",
       "      <td id=\"T_12707_row1_col0\" class=\"data row1 col0\" >1</td>\n",
       "      <td id=\"T_12707_row1_col1\" class=\"data row1 col1\" >2</td>\n",
       "      <td id=\"T_12707_row1_col2\" class=\"data row1 col2\" >3</td>\n",
       "      <td id=\"T_12707_row1_col3\" class=\"data row1 col3\" >4</td>\n",
       "      <td id=\"T_12707_row1_col4\" class=\"data row1 col4\" >5</td>\n",
       "      <td id=\"T_12707_row1_col5\" class=\"data row1 col5\" >6</td>\n",
       "    </tr>\n",
       "  </tbody>\n",
       "</table>\n"
      ],
      "text/plain": [
       "<pandas.io.formats.style.Styler at 0xffff6dde3400>"
      ]
     },
     "execution_count": 72,
     "metadata": {},
     "output_type": "execute_result"
    }
   ],
   "source": [
    "l = [1,2,3,4,5,6] # test pomiar\n",
    "data = [l,l] # test data\n",
    "n_pomiar = 2\n",
    "\n",
    "\n",
    "\n",
    "df1 = pd.DataFrame(data,index=pd.Index([f'Pomiar {i+1}' for i in range(n_pomiar)], \n",
    "                                      name='Wyniki pomiarów:'),\n",
    "                  columns=pd.MultiIndex.from_product([['Uzwojenie gorne', 'Uzwojenie dolne'], \n",
    "                                                      ['U[V]', 'I[A]', 'R[ohm]']]))\n",
    "df1 = df1.style.set_caption('Tabela 1. Wyniki pomiarów dokonanych podczas badania rezystancji uzwojenia transformatora.')\n",
    "\n",
    "\n",
    "df1"
   ]
  },
  {
   "cell_type": "markdown",
   "id": "c3fd7734",
   "metadata": {},
   "source": [
    "Wartość średnia rezystancji $R_{1,śr} = $<p>\n",
    "Wartość średnia rezystancji $R_{2,śr} = $\n"
   ]
  },
  {
   "cell_type": "markdown",
   "id": "cb1a8c49",
   "metadata": {},
   "source": [
    "#### 2. Badanie przekładni napięciowej i prądowej transformatora."
   ]
  },
  {
   "cell_type": "code",
   "execution_count": 78,
   "id": "4d2aaca4",
   "metadata": {},
   "outputs": [
    {
     "data": {
      "text/html": [
       "<style type=\"text/css\">\n",
       "</style>\n",
       "<table id=\"T_68250_\">\n",
       "  <caption>Tabela 2. Wyniki pomiarów przekładni napięciowej i prądowej transformatora.</caption>\n",
       "  <thead>\n",
       "    <tr>\n",
       "      <th class=\"blank level0\" >&nbsp;</th>\n",
       "      <th class=\"col_heading level0 col0\" >Pomiar 1</th>\n",
       "      <th class=\"col_heading level0 col1\" >Pomiar 2</th>\n",
       "      <th class=\"col_heading level0 col2\" >Pomiar 3</th>\n",
       "      <th class=\"col_heading level0 col3\" >Uśr[V]</th>\n",
       "      <th class=\"col_heading level0 col4\" >przekładnia[V]</th>\n",
       "    </tr>\n",
       "    <tr>\n",
       "      <th class=\"index_name level0\" >Wyniki pomiarów:</th>\n",
       "      <th class=\"blank col0\" >&nbsp;</th>\n",
       "      <th class=\"blank col1\" >&nbsp;</th>\n",
       "      <th class=\"blank col2\" >&nbsp;</th>\n",
       "      <th class=\"blank col3\" >&nbsp;</th>\n",
       "      <th class=\"blank col4\" >&nbsp;</th>\n",
       "    </tr>\n",
       "  </thead>\n",
       "  <tbody>\n",
       "    <tr>\n",
       "      <th id=\"T_68250_level0_row0\" class=\"row_heading level0 row0\" >U_1[V]</th>\n",
       "      <td id=\"T_68250_row0_col0\" class=\"data row0 col0\" >1</td>\n",
       "      <td id=\"T_68250_row0_col1\" class=\"data row0 col1\" >2</td>\n",
       "      <td id=\"T_68250_row0_col2\" class=\"data row0 col2\" >3</td>\n",
       "      <td id=\"T_68250_row0_col3\" class=\"data row0 col3\" >4</td>\n",
       "      <td id=\"T_68250_row0_col4\" class=\"data row0 col4\" >5</td>\n",
       "    </tr>\n",
       "    <tr>\n",
       "      <th id=\"T_68250_level0_row1\" class=\"row_heading level0 row1\" >U_2[V]</th>\n",
       "      <td id=\"T_68250_row1_col0\" class=\"data row1 col0\" >1</td>\n",
       "      <td id=\"T_68250_row1_col1\" class=\"data row1 col1\" >2</td>\n",
       "      <td id=\"T_68250_row1_col2\" class=\"data row1 col2\" >3</td>\n",
       "      <td id=\"T_68250_row1_col3\" class=\"data row1 col3\" >4</td>\n",
       "      <td id=\"T_68250_row1_col4\" class=\"data row1 col4\" >5</td>\n",
       "    </tr>\n",
       "    <tr>\n",
       "      <th id=\"T_68250_level0_row2\" class=\"row_heading level0 row2\" >I_1[V]</th>\n",
       "      <td id=\"T_68250_row2_col0\" class=\"data row2 col0\" >1</td>\n",
       "      <td id=\"T_68250_row2_col1\" class=\"data row2 col1\" >2</td>\n",
       "      <td id=\"T_68250_row2_col2\" class=\"data row2 col2\" >3</td>\n",
       "      <td id=\"T_68250_row2_col3\" class=\"data row2 col3\" >4</td>\n",
       "      <td id=\"T_68250_row2_col4\" class=\"data row2 col4\" >5</td>\n",
       "    </tr>\n",
       "    <tr>\n",
       "      <th id=\"T_68250_level0_row3\" class=\"row_heading level0 row3\" >I_2[V]</th>\n",
       "      <td id=\"T_68250_row3_col0\" class=\"data row3 col0\" >1</td>\n",
       "      <td id=\"T_68250_row3_col1\" class=\"data row3 col1\" >2</td>\n",
       "      <td id=\"T_68250_row3_col2\" class=\"data row3 col2\" >3</td>\n",
       "      <td id=\"T_68250_row3_col3\" class=\"data row3 col3\" >4</td>\n",
       "      <td id=\"T_68250_row3_col4\" class=\"data row3 col4\" >5</td>\n",
       "    </tr>\n",
       "  </tbody>\n",
       "</table>\n"
      ],
      "text/plain": [
       "<pandas.io.formats.style.Styler at 0xffff6e05af40>"
      ]
     },
     "execution_count": 78,
     "metadata": {},
     "output_type": "execute_result"
    }
   ],
   "source": [
    "l = [1,2,3,4,5] # test samples\n",
    "data = [l,l,l,l]\n",
    "n_samples = 4\n",
    "grear = lambda sr1, sr2: sr1/sr2 # calc for U sr1/sr2 , for I sr2/sr1\n",
    "\n",
    "df2 = pd.DataFrame(data, index=pd.Index([f'U_{i+1}[V]' if i < 2 else f'I_{i-1}[V]' for i in range(n_samples)], \n",
    "                                      name='Wyniki pomiarów:'),\n",
    "                  columns=[f'Pomiar {i + 1}' if i < 3 else f'Uśr[V]' if i == 3 else 'przekładnia[V]' for i in range(len(l))])\n",
    "\n",
    "df2 = df2.style.set_caption('Tabela 2. Wyniki pomiarów przekładni napięciowej i prądowej transformatora.')\n",
    "df2\n",
    "\n"
   ]
  },
  {
   "cell_type": "markdown",
   "id": "9e3ea9f4",
   "metadata": {},
   "source": [
    "#### 3.Badanie stanu jałowego."
   ]
  },
  {
   "cell_type": "code",
   "execution_count": null,
   "id": "37f17f23",
   "metadata": {},
   "outputs": [],
   "source": []
  }
 ],
 "metadata": {
  "kernelspec": {
   "display_name": "Python 3 (ipykernel)",
   "language": "python",
   "name": "python3"
  },
  "language_info": {
   "codemirror_mode": {
    "name": "ipython",
    "version": 3
   },
   "file_extension": ".py",
   "mimetype": "text/x-python",
   "name": "python",
   "nbconvert_exporter": "python",
   "pygments_lexer": "ipython3",
   "version": "3.9.5"
  }
 },
 "nbformat": 4,
 "nbformat_minor": 5
}
