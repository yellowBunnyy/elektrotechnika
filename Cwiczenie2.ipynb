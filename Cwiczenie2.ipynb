{
 "cells": [
  {
   "cell_type": "code",
   "execution_count": 3,
   "id": "extreme-journey",
   "metadata": {},
   "outputs": [],
   "source": [
    "import pandas as pd\n",
    "from IPython.display import Image"
   ]
  },
  {
   "cell_type": "code",
   "execution_count": 4,
   "id": "romance-lover",
   "metadata": {},
   "outputs": [
    {
     "data": {
      "text/html": [
       "<div>\n",
       "<style scoped>\n",
       "    .dataframe tbody tr th:only-of-type {\n",
       "        vertical-align: middle;\n",
       "    }\n",
       "\n",
       "    .dataframe tbody tr th {\n",
       "        vertical-align: top;\n",
       "    }\n",
       "\n",
       "    .dataframe thead th {\n",
       "        text-align: right;\n",
       "    }\n",
       "</style>\n",
       "<table border=\"1\" class=\"dataframe\">\n",
       "  <thead>\n",
       "    <tr style=\"text-align: right;\">\n",
       "      <th></th>\n",
       "      <th>E</th>\n",
       "      <th>R</th>\n",
       "      <th>C</th>\n",
       "      <th>L</th>\n",
       "      <th>f</th>\n",
       "    </tr>\n",
       "  </thead>\n",
       "  <tbody>\n",
       "    <tr>\n",
       "      <th>sekcja B</th>\n",
       "      <td>50</td>\n",
       "      <td>20</td>\n",
       "      <td>0.00004</td>\n",
       "      <td>0.6</td>\n",
       "      <td>50</td>\n",
       "    </tr>\n",
       "  </tbody>\n",
       "</table>\n",
       "</div>"
      ],
      "text/plain": [
       "           E   R        C    L   f\n",
       "sekcja B  50  20  0.00004  0.6  50"
      ]
     },
     "execution_count": 4,
     "metadata": {},
     "output_type": "execute_result"
    }
   ],
   "source": [
    "d = {'E': [50], 'R':[20], 'C': [40*10**-6], 'L': [0.6], 'f': [50]}\n",
    "table = pd.DataFrame(d, index=['sekcja B'])\n",
    "table"
   ]
  },
  {
   "cell_type": "markdown",
   "id": "graduate-ratio",
   "metadata": {},
   "source": [
    "### Obliczenia:"
   ]
  },
  {
   "cell_type": "markdown",
   "id": "sublime-redhead",
   "metadata": {},
   "source": [
    "Napięcie |U| mnożymy przez $\\sqrt2$ aby uzyskać U_m. <p>\n",
    "$e(t)=50*\\sqrt2* sin(\\omega\\ t + 45^\\circ) V$<p>\n",
    "$ \\omega = 2\\pi*f = 314 \\frac{rad}{s}$ <p>\n",
    "$E = 35e^{j45^\\circ}V$<p>\n",
    "Liczymy reaktancję:<p>\n",
    "$X_c=\\frac{1}{\\omega\\ C}=\\frac{1}{314*40*10^{-3}}= 79.619 \\Omega$<p>\n",
    "$X_L=\\omega * L = 314 * 0.6 = 188.4 \\Omega$<p>\n",
    "Liczymy impedancję dla kondensatora, minus przy liczbie zespolonej wynika z przesunięcia $90^\\circ:$<p>\n",
    "$Z_C=-jX_C = -j79.619\\Omega$<p>\n",
    "Liczymy Impedancję dla gałęzi rezystor + cewka:<p>\n",
    "$Z_{LR} = R + jX_L = 20 +  j188.4 \\Omega$<p>\n",
    "Liczymy impedancję zastępczą dla rezystor + cewka oraz kondensatora (równolegle): <p>\n",
    "$Z_z = \\frac{Z_{LR}*Z_C}{Z_{LR}+Z_C}=\\frac{20+j188.4*(-j79.619)}{20 + j188.4 +(-j79.619)}=135.801e^{-j79.5^\\circ} \\Omega$<p>\n",
    "Liczymy natężenie dla gałęzi z rezystor + cewka z prawa Ohma ponieważ posiadamy impedancje w $\\Omega$:<p>\n",
    "$I_{RL}=\\frac{E}{Z_{RL}}= \\frac{50e^{j45^\\circ}}{189.458e^{j83.94^\\circ}}=0.263e^{-j38.9^\\circ}A$<p>\n",
    "Liczymy natężenie dla gałęzi z kondensatorem z prawa Ohma ponieważ również posiadamy impedancję w $\\Omega$:<p>\n",
    "$I_C=\\frac{E}{Z_C}=\\frac{50e^{j45^\\circ}}{79.619e^{-j90^\\circ}}=0.628e^{j135^\\circ}A$<p>\n",
    "Liczymy natężenie prądu dla całego obwodu ponieważ posiadamy impedancję zastępczą dwóch gałęzi:<p>\n",
    "$I=\\frac{E}{Z_z}=\\frac{50e^{j45^\\circ}}{135.801e^{-j79.5^\\circ}}=0.368e^{j124.5^\\circ}A$<p>\n",
    "Podsumowanie:\n",
    "    \n",
    "$I_{RL}=0.263*\\sqrt2*sin(\\omega\\ t - 38.9^\\circ)A$<p>\n",
    "$I_C=0.628*\\sqrt2*sin(\\omega\\ t + 135^\\circ)A$<p>\n",
    "$I = 0.368*\\sqrt2*sin(\\omega\\ t + 124.5^\\circ)A$"
   ]
  }
 ],
 "metadata": {
  "kernelspec": {
   "display_name": "Python 3",
   "language": "python",
   "name": "python3"
  },
  "language_info": {
   "codemirror_mode": {
    "name": "ipython",
    "version": 3
   },
   "file_extension": ".py",
   "mimetype": "text/x-python",
   "name": "python",
   "nbconvert_exporter": "python",
   "pygments_lexer": "ipython3",
   "version": "3.7.3"
  }
 },
 "nbformat": 4,
 "nbformat_minor": 5
}
